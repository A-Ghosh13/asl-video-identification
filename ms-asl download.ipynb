{
 "cells": [
  {
   "cell_type": "code",
   "execution_count": 1,
   "metadata": {
    "collapsed": true,
    "scrolled": true
   },
   "outputs": [],
   "source": [
    "import os\n",
    "import json\n",
    "from pytube import YouTube, exceptions\n",
    "import socket\n",
    "import imageio\n",
    "# imageio.plugins.ffmpeg.download()\n",
    "from moviepy.editor import *\n",
    "import shutil\n",
    "import urllib.error as err\n",
    "import sys"
   ]
  },
  {
   "cell_type": "code",
   "execution_count": 4,
   "metadata": {
    "scrolled": true
   },
   "outputs": [
    {
     "name": "stdout",
     "output_type": "stream",
     "text": [
      "190\n",
      "Error raised on video #191, was a <class 'pytube.exceptions.VideoUnavailable'>\n",
      "Error raised on video #192, was a <class 'pytube.exceptions.RegexMatchError'>\n",
      "Error raised on video #193, was a <class 'pytube.exceptions.VideoUnavailable'>\n",
      "Error raised on video #194, was a <class 'pytube.exceptions.VideoUnavailable'>\n",
      "Error raised on video #195, was a <class 'pytube.exceptions.VideoUnavailable'>\n",
      "Error raised on video #196, was a <class 'pytube.exceptions.VideoUnavailable'>\n",
      "Error raised on video #197, was a <class 'pytube.exceptions.VideoUnavailable'>\n",
      "Error raised on video #198, was a <class 'pytube.exceptions.VideoUnavailable'>\n",
      "Error raised on video #199, was a <class 'pytube.exceptions.VideoUnavailable'>\n",
      "Error raised on video #200, was a <class 'pytube.exceptions.VideoUnavailable'>\n",
      "Error raised on video #201, was a <class 'pytube.exceptions.RegexMatchError'>\n",
      "Error raised on video #202, was a <class 'pytube.exceptions.VideoUnavailable'>\n",
      "Error raised on video #203, was a <class 'pytube.exceptions.VideoUnavailable'>\n",
      "Error raised on video #204, was a <class 'pytube.exceptions.VideoUnavailable'>\n",
      "Error raised on video #205, was a <class 'pytube.exceptions.VideoUnavailable'>\n",
      "Error raised on video #206, was a <class 'pytube.exceptions.VideoUnavailable'>\n",
      "Error raised on video #207, was a <class 'pytube.exceptions.VideoUnavailable'>\n",
      "Error raised on video #208, was a <class 'pytube.exceptions.VideoUnavailable'>\n",
      "Error raised on video #209, was a <class 'pytube.exceptions.VideoUnavailable'>\n",
      "Error raised on video #210, was a <class 'pytube.exceptions.VideoUnavailable'>\n",
      "Error raised on video #211, was a <class 'pytube.exceptions.VideoUnavailable'>\n",
      "Error raised on video #212, was a <class 'pytube.exceptions.VideoUnavailable'>\n",
      "Error raised on video #213, was a <class 'pytube.exceptions.VideoUnavailable'>\n",
      "Error raised on video #214, was a <class 'pytube.exceptions.VideoUnavailable'>\n",
      "Error raised on video #215, was a <class 'pytube.exceptions.VideoUnavailable'>\n",
      "Error raised on video #216, was a <class 'pytube.exceptions.VideoUnavailable'>\n",
      "Error raised on video #217, was a <class 'pytube.exceptions.VideoUnavailable'>\n",
      "Error raised on video #218, was a <class 'pytube.exceptions.VideoUnavailable'>\n",
      "Error raised on video #219, was a <class 'pytube.exceptions.VideoUnavailable'>\n",
      "Error raised on video #220, was a <class 'pytube.exceptions.RegexMatchError'>\n"
     ]
    }
   ],
   "source": [
    "# for x in ['test', 'train', 'val']:\n",
    "# for x in ['train', 'val']:\n",
    "for x in ['val']:\n",
    "    with open('MS-ASL/MSASL_{}.json'.format(x)) as f:\n",
    "        aslFile = json.load(f)\n",
    "        for counter in range(190, 221):\n",
    "            for y in range(5):\n",
    "                try:\n",
    "        #         for counter in range(287, 289):\n",
    "                    link = aslFile[counter]['url']\n",
    "                    try:\n",
    "                        yt = YouTube(link)\n",
    "                        #print(yt.streams)\n",
    "                        d_video = yt.streams.first()\n",
    "                        #downloading the video\n",
    "                        SAVE_PATH = 'MS-ASL/{}/{} - {}'.format(x, aslFile[counter]['label'], aslFile[counter]['text'])\n",
    "                        if (os.path.isdir(SAVE_PATH)==False):\n",
    "                            os.mkdir(SAVE_PATH)\n",
    "                        location = d_video.download(SAVE_PATH, filename=\"video{}\".format(counter))\n",
    "                        video = VideoFileClip(location).subclip(aslFile[counter]['start_time'],aslFile[counter]['end_time'])\n",
    "                        video.write_videofile(\"video{}.mp4\".format(counter),fps=aslFile[counter]['fps'], logger=None)  \n",
    "                        video.close()\n",
    "                        shutil.move(\"video{}.mp4\".format(counter),'MS-ASL/{}/{} - {}/video{}.mp4'.format(x, aslFile[counter]['label'], aslFile[counter]['text'], counter) )\n",
    "                        print(counter)\n",
    "                    except (TimeoutError, exceptions.RegexMatchError, socket.gaierror, exceptions.VideoUnavailable):\n",
    "                        print('Error raised on video #{}, was a {}'.format(counter, sys.exc_info()[0]))\n",
    "                    break\n",
    "                except (err.URLError):\n",
    "                    print('URL Error - trying again')\n",
    "                    pass\n",
    "                except:\n",
    "                    print('other error - trying again')\n",
    "                    pass"
   ]
  },
  {
   "cell_type": "raw",
   "metadata": {},
   "source": [
    "with open('MS-ASL/MSASL_test.json') as f:\n",
    "    for x in f:\n",
    "        print(x)"
   ]
  },
  {
   "cell_type": "code",
   "execution_count": null,
   "metadata": {
    "collapsed": true
   },
   "outputs": [],
   "source": []
  }
 ],
 "metadata": {
  "kernelspec": {
   "display_name": "Python 3",
   "language": "python",
   "name": "python3"
  },
  "language_info": {
   "codemirror_mode": {
    "name": "ipython",
    "version": 3
   },
   "file_extension": ".py",
   "mimetype": "text/x-python",
   "name": "python",
   "nbconvert_exporter": "python",
   "pygments_lexer": "ipython3",
   "version": "3.6.10"
  }
 },
 "nbformat": 4,
 "nbformat_minor": 2
}
