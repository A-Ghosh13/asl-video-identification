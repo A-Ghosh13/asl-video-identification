{
 "cells": [
  {
   "cell_type": "code",
   "execution_count": 1,
   "metadata": {},
   "outputs": [],
   "source": [
    "from __future__ import print_function, division\n",
    "\n",
    "import torch\n",
    "import torch.nn as nn\n",
    "import torch.optim as optim\n",
    "from torch.optim import lr_scheduler\n",
    "import numpy as np\n",
    "import torchvision\n",
    "from torchvision import datasets, models, transforms\n",
    "import torchvision.transforms._transforms_video as vidTranforms\n",
    "import torchvision.io as io\n",
    "import time\n",
    "import os\n",
    "import copy\n",
    "from torch.utils.data import Dataset, DataLoader\n",
    "import skvideo\n",
    "skvideo.setFFmpegPath(\"/usr/bin/\")\n",
    "import skvideo.io  \n",
    "import GPUtil\n",
    "import apex.amp as amp\n",
    "import apex"
   ]
  },
  {
   "cell_type": "code",
   "execution_count": 2,
   "metadata": {},
   "outputs": [],
   "source": [
    "def loader(path):\n",
    "#     vid = skvideo.io.vread(path)  \n",
    "    vid, _, _ = io.read_video(path, pts_unit='sec')\n",
    "#     videodata = vid.permute(3, 0, 1, 2)  \n",
    "#     print(vid.shape)\n",
    "    return vid"
   ]
  },
  {
   "cell_type": "code",
   "execution_count": 3,
   "metadata": {
    "scrolled": true
   },
   "outputs": [],
   "source": [
    "data_transforms = {\n",
    "    'train': transforms.Compose([\n",
    "        vidTranforms.ToTensorVideo(),\n",
    "        vidTranforms.RandomHorizontalFlipVideo(),\n",
    "        vidTranforms.NormalizeVideo(mean = [0.43216, 0.394666, 0.37645], std = [0.22803, 0.22145, 0.216989])\n",
    "    ]),\n",
    "    'val': transforms.Compose([\n",
    "        vidTranforms.ToTensorVideo(),\n",
    "        vidTranforms.RandomHorizontalFlipVideo(),\n",
    "        vidTranforms.NormalizeVideo(mean = [0.43216, 0.394666, 0.37645], std = [0.22803, 0.22145, 0.216989])\n",
    "    ]),\n",
    "}\n",
    "\n",
    "data_dir = 'MS-ASL100'\n",
    "\n",
    "video_datasets = {x: datasets.DatasetFolder(os.path.join(data_dir, x), loader=loader, extensions='.mp4', transform = data_transforms[x])\n",
    "                  for x in ['train', 'val']}\n",
    "# print(len(video_datasets['train']))\n",
    "dataloaders = {x: torch.utils.data.DataLoader(video_datasets[x], batch_size=1, shuffle=True, num_workers=4, pin_memory=False)\n",
    "              for x in ['train', 'val']}\n",
    "# print(len(dataloaders['train']))\n",
    "dataset_sizes = {x: len(video_datasets[x]) for x in ['train', 'val']}\n",
    "class_names = video_datasets['train'].classes\n",
    "device = torch.device(\"cuda:0\" if torch.cuda.is_available() else \"cpu\")\n",
    "# torch.distributed.init_process_group(backend = 'nccl', init_method='env://')\n",
    "torch.cuda.set_enabled_lms(True)"
   ]
  },
  {
   "cell_type": "code",
   "execution_count": 4,
   "metadata": {},
   "outputs": [],
   "source": [
    "def train_model(model, criterion, optimizer, scheduler, num_epochs):\n",
    "    since = time.time()\n",
    "        \n",
    "    best_model_wts = copy.deepcopy(model.state_dict())\n",
    "    best_acc = 0.0\n",
    "    for epoch in range(num_epochs):\n",
    "        print('Epoch {}/{}'.format(epoch+1, num_epochs))\n",
    "        print('-' * 10)\n",
    "        torch.cuda.empty_cache()\n",
    "        # Each epoch has a training and validation phase\n",
    "        for phase in ['train', 'val']:\n",
    "            if phase == 'train':\n",
    "                model.train()  # Set model to training mode\n",
    "            else:\n",
    "                model.eval()   # Set model to evaluate mode\n",
    "                \n",
    "            running_loss = 0.0\n",
    "            running_corrects = 0\n",
    "            # Iterate over data.\n",
    "            for i, (inputs, labels) in enumerate(dataloaders[phase]):\n",
    "                inputs = inputs.to(device)\n",
    "#                 print(list(inputs.size()))\n",
    "                labels = labels.to(device)\n",
    "                \n",
    "                # zero the parameter gradients\n",
    "                optimizer.zero_grad()\n",
    "                model.zero_grad()\n",
    "                \n",
    "                # track history if only in train\n",
    "                with torch.set_grad_enabled(phase == 'train'):\n",
    "#                     GPUtil.showUtilization(all=True)\n",
    "                    outputs = model(inputs)\n",
    "                    _, preds = torch.max(outputs, 1)\n",
    "                    loss = criterion(outputs, labels)\n",
    "                    # backward + optimize only if in training phase\n",
    "                    if phase == 'train':\n",
    "                        with amp.scale_loss(loss, optimizer) as scaled_loss:\n",
    "                            scaled_loss.backward()\n",
    "                        optimizer.step()\n",
    "                # statistics\n",
    "                running_loss += loss.item() * inputs.size(0)\n",
    "                running_corrects += torch.sum(preds == labels.data)                \n",
    "                \n",
    "                del preds\n",
    "                del labels                                    \n",
    "                if(i%100==0):\n",
    "                    print('Batch: {}'.format(i))\n",
    "            if phase == 'train':\n",
    "                scheduler.step()\n",
    "            \n",
    "            epoch_loss = running_loss / dataset_sizes[phase]\n",
    "            epoch_acc = running_corrects.double() / dataset_sizes[phase]\n",
    "#             epoch_acc = running_corrects / dataset_sizes[phase]\n",
    "\n",
    "            print('{} Loss: {:.4f} Acc: {:.4f}'.format(phase, epoch_loss, epoch_acc))\n",
    "\n",
    "            # deep copy the model\n",
    "            if phase == 'val' and epoch_acc > best_acc:\n",
    "                best_acc = epoch_acc\n",
    "                best_model_wts = copy.deepcopy(model.state_dict())\n",
    "\n",
    "        print()\n",
    "\n",
    "    time_elapsed = time.time() - since\n",
    "    print('Training complete in {:.0f}m {:.0f}s'.format(\n",
    "        time_elapsed // 60, time_elapsed % 60))\n",
    "    print('Best val Acc: {:4f}'.format(best_acc))\n",
    "\n",
    "    # load best model weights\n",
    "    model.load_state_dict(best_model_wts)\n",
    "    torch.save(model.state_dict(), \"aslModel.pth.tar\")\n",
    "    return model"
   ]
  },
  {
   "cell_type": "code",
   "execution_count": 5,
   "metadata": {},
   "outputs": [
    {
     "name": "stdout",
     "output_type": "stream",
     "text": [
      "10\n",
      "Selected optimization level O1:  Insert automatic casts around Pytorch functions and Tensor methods.\n",
      "\n",
      "Defaults for this optimization level are:\n",
      "enabled                : True\n",
      "opt_level              : O1\n",
      "cast_model_type        : None\n",
      "patch_torch_functions  : True\n",
      "keep_batchnorm_fp32    : None\n",
      "master_weights         : None\n",
      "loss_scale             : dynamic\n",
      "Processing user overrides (additional kwargs that are not None)...\n",
      "After processing overrides, optimization options are:\n",
      "enabled                : True\n",
      "opt_level              : O1\n",
      "cast_model_type        : None\n",
      "patch_torch_functions  : True\n",
      "keep_batchnorm_fp32    : None\n",
      "master_weights         : None\n",
      "loss_scale             : dynamic\n"
     ]
    }
   ],
   "source": [
    "model_ft = torchvision.models.video.r2plus1d_18(pretrained=True)\n",
    "counter = 0\n",
    "for param in model_ft.parameters():\n",
    "    param.requires_grad = False\n",
    "    if (counter > 9):\n",
    "        break\n",
    "    counter += 1\n",
    "print(counter)\n",
    "num_ftrs = model_ft.fc.in_features\n",
    "model_ft.fc = nn.Linear(num_ftrs, len(class_names))\n",
    "model_ft = model_ft.to(device)\n",
    "\n",
    "weightTensor = torch.from_numpy(np.loadtxt('shortWeights'))\n",
    "weightTensor = weightTensor.to(device).float()\n",
    "loss = nn.CrossEntropyLoss(weight = weightTensor)\n",
    "# loss = nn.CrossEntropyLoss()\n",
    "del weightTensor\n",
    "\n",
    "\n",
    "# optimizer_ft = optim.SGD(model_ft.parameters(), lr=0.0001, momentum=0.9, weight_decay=0.001)\n",
    "optimizer_ft = apex.optimizers.FusedSGD(model_ft.parameters(), lr=0.001, momentum=0.9)\n",
    "exp_lr_scheduler = lr_scheduler.StepLR(optimizer_ft, step_size=5, gamma=0.01)\n",
    "\n",
    "model_ft, optimizer_ft = amp.initialize(model_ft, optimizer_ft, opt_level=\"O1\")"
   ]
  },
  {
   "cell_type": "code",
   "execution_count": null,
   "metadata": {
    "scrolled": true
   },
   "outputs": [
    {
     "name": "stdout",
     "output_type": "stream",
     "text": [
      "Epoch 1/100\n",
      "----------\n",
      "Batch: 0\n",
      "Gradient overflow.  Skipping step, loss scaler 0 reducing loss scale to 32768.0\n",
      "Batch: 100\n",
      "Batch: 200\n",
      "Batch: 300\n",
      "Batch: 400\n",
      "train Loss: 2.6523 Acc: 0.1152\n"
     ]
    },
    {
     "name": "stderr",
     "output_type": "stream",
     "text": [
      "/home/ubuntu/anaconda3/envs/myenv/lib/python3.6/site-packages/torch/optim/lr_scheduler.py:91: UserWarning: Seems like `optimizer.step()` has been overridden after learning rate scheduler initialization. Please, make sure to call `optimizer.step()` before `lr_scheduler.step()`. See more details at https://pytorch.org/docs/stable/optim.html#how-to-adjust-learning-rate\n",
      "  \"https://pytorch.org/docs/stable/optim.html#how-to-adjust-learning-rate\", UserWarning)\n"
     ]
    },
    {
     "name": "stdout",
     "output_type": "stream",
     "text": [
      "Batch: 0\n",
      "Batch: 100\n",
      "val Loss: 2.5008 Acc: 0.0526\n",
      "\n",
      "Epoch 2/100\n",
      "----------\n",
      "Batch: 0\n",
      "Batch: 100\n",
      "Batch: 200\n",
      "Batch: 300\n",
      "Batch: 400\n",
      "train Loss: 2.3680 Acc: 0.0991\n",
      "Batch: 0\n",
      "Batch: 100\n",
      "val Loss: 2.3714 Acc: 0.0526\n",
      "\n",
      "Epoch 3/100\n",
      "----------\n",
      "Batch: 0\n",
      "Batch: 100\n",
      "Batch: 200\n",
      "Batch: 300\n",
      "Batch: 400\n",
      "train Loss: 2.3424 Acc: 0.1106\n",
      "Batch: 0\n",
      "Batch: 100\n",
      "val Loss: 2.3842 Acc: 0.0965\n",
      "\n",
      "Epoch 4/100\n",
      "----------\n",
      "Batch: 0\n",
      "Batch: 100\n",
      "Batch: 200\n",
      "Batch: 300\n",
      "Batch: 400\n",
      "train Loss: 2.3314 Acc: 0.1060\n",
      "Batch: 0\n",
      "Batch: 100\n",
      "val Loss: 2.3757 Acc: 0.0526\n",
      "\n",
      "Epoch 5/100\n",
      "----------\n",
      "Batch: 0\n",
      "Batch: 100\n",
      "Batch: 200\n",
      "Batch: 300\n",
      "Batch: 400\n",
      "train Loss: 2.3156 Acc: 0.1106\n",
      "Batch: 0\n",
      "Batch: 100\n",
      "val Loss: 2.3636 Acc: 0.0877\n",
      "\n",
      "Epoch 6/100\n",
      "----------\n"
     ]
    }
   ],
   "source": [
    "torch.cuda.empty_cache()\n",
    "model_ft = train_model(model_ft, loss, optimizer_ft, exp_lr_scheduler, num_epochs=100)"
   ]
  },
  {
   "cell_type": "code",
   "execution_count": null,
   "metadata": {},
   "outputs": [],
   "source": []
  },
  {
   "cell_type": "code",
   "execution_count": 7,
   "metadata": {},
   "outputs": [
    {
     "name": "stdout",
     "output_type": "stream",
     "text": [
      "0\n",
      "100\n",
      "200\n",
      "300\n",
      "400\n",
      "[0.94009217 0.88018433 0.90322581 0.88018433 0.89861751 0.92165899\n",
      " 0.90092166 0.89400922 0.88479263 0.89631336]\n"
     ]
    }
   ],
   "source": [
    "# arr = np.zeros(len(class_names))\n",
    "# counter = 0\n",
    "# for _, className in video_datasets['train']:\n",
    "#     if (counter%100 == 0):\n",
    "#         print(counter)\n",
    "#     arr[className] += 1\n",
    "#     counter += 1\n",
    "# sum = np.sum(arr)\n",
    "# arr = np.subtract(sum, arr)\n",
    "# weightsArray = np.true_divide(arr, sum)\n",
    "# print(weightsArray)"
   ]
  },
  {
   "cell_type": "code",
   "execution_count": 8,
   "metadata": {},
   "outputs": [],
   "source": [
    "np.savetxt('shortWeights', weightsArray)"
   ]
  },
  {
   "cell_type": "code",
   "execution_count": null,
   "metadata": {},
   "outputs": [],
   "source": []
  }
 ],
 "metadata": {
  "kernelspec": {
   "display_name": "Python 3",
   "language": "python",
   "name": "python3"
  },
  "language_info": {
   "codemirror_mode": {
    "name": "ipython",
    "version": 3
   },
   "file_extension": ".py",
   "mimetype": "text/x-python",
   "name": "python",
   "nbconvert_exporter": "python",
   "pygments_lexer": "ipython3",
   "version": "3.6.10"
  }
 },
 "nbformat": 4,
 "nbformat_minor": 2
}
