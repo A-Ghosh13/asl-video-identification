{
 "cells": [
  {
   "cell_type": "code",
   "execution_count": 41,
   "metadata": {
    "collapsed": true
   },
   "outputs": [],
   "source": [
    "import cv2\n",
    "import numpy as np\n",
    "import os\n",
    "from os.path import isfile, join, isdir\n",
    "import shutil\n"
   ]
  },
  {
   "cell_type": "code",
   "execution_count": 48,
   "metadata": {
    "collapsed": true
   },
   "outputs": [],
   "source": [
    "data_root= 'jester/20bn-jester-v1'\n",
    "frame_array = []\n",
    "fps = 12\n",
    "#for folder in os.listdir(data_root):   \n",
    "    #path = os.path.join (data_root, folder)\n",
    "    #if isdir(join(path, className)):\n",
    "       # for className in os.listdir(path):\n",
    " #               folderDir = os.path.join (path, className)\n",
    "for folder in os.listdir(data_root):\n",
    "    if isdir(join(data_root, folder)):\n",
    "        pathOut = join(data_root, \"{}.mp4\".format(folder))\n",
    "        pathIn = join(data_root, folder)\n",
    "        files = [f for f in os.listdir(pathIn) if isfile(join(pathIn, f))]\n",
    "        files.sort(key = lambda x: x[5:-4])\n",
    "        files.sort()\n",
    "        for i in range(len(files)):\n",
    "            filename= os.path.join(pathIn, files[i])\n",
    "            img = cv2.imread(filename)\n",
    "            height, width, layers = img.shape\n",
    "            size = (width,height)\n",
    "            frame_array.append(img)\n",
    "        out = cv2.VideoWriter(pathOut,cv2.VideoWriter_fourcc(*'DIVX'), fps, size)\n",
    "        for i in range(len(frame_array)):\n",
    "            out.write(frame_array[i])\n",
    "        out.release()\n",
    "        files = []\n",
    "        frame_array = []\n",
    "        shutil.rmtree(pathIn)"
   ]
  }
 ],
 "metadata": {
  "kernelspec": {
   "display_name": "Python 3",
   "language": "python",
   "name": "python3"
  },
  "language_info": {
   "codemirror_mode": {
    "name": "ipython",
    "version": 3
   },
   "file_extension": ".py",
   "mimetype": "text/x-python",
   "name": "python",
   "nbconvert_exporter": "python",
   "pygments_lexer": "ipython3",
   "version": "3.6.3"
  }
 },
 "nbformat": 4,
 "nbformat_minor": 2
}
